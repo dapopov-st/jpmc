{
 "cells": [
  {
   "cell_type": "code",
   "execution_count": 6,
   "id": "b6da6c69",
   "metadata": {},
   "outputs": [
    {
     "name": "stdout",
     "output_type": "stream",
     "text": [
      "Cross-Validation Scores:  [0.91458333 0.91513889 0.91861111 0.91847222 0.91444444]\n",
      "mean_cv_score:  0.9162500000000001\n"
     ]
    }
   ],
   "source": [
    "import pandas as pd\n",
    "from sklearn.model_selection import cross_val_score\n",
    "from sklearn.linear_model import LogisticRegression\n",
    "from sklearn.pipeline import Pipeline\n",
    "from sklearn.preprocessing import StandardScaler\n",
    "import numpy as np\n",
    "\n",
    "# Load the data\n",
    "data = pd.read_csv('/Users/joyzhang/Desktop/data2024/DatascienceAcademy/user journey /Synthetic_Auto_Loan_Application_Data_With_Treatment_and_Logical_Timestamp_DPV.csv')\n",
    "\n",
    "# Create a binary target variable for 'Latest Stage'\n",
    "# Encode 'Approval' as 1 (Approved) and all others as 0 (Not Approved)\n",
    "data['Is_Approved'] = data['Latest Stage'].apply(lambda x: 1 if x == 'Approval' else 0)\n",
    "\n",
    "# Define the feature columns for the logistic regression model\n",
    "features = ['Credit Score', 'Age', 'Vehicle_Year', 'Loan_Amount', 'Down_Payment', \n",
    "            'Loan_Tenure_Years', 'Interest_Rate', 'Session_Duration_Minutes', 'Number_of_Interactions']\n",
    "\n",
    "# Separate the features (X) and the target (y)\n",
    "X = data[features]\n",
    "y = data['Is_Approved']\n",
    "\n",
    "# Initialize the logistic regression model\n",
    "log_reg_model = LogisticRegression(max_iter=1000)\n",
    "\n",
    "# Create a pipeline that scales the data and then fits the logistic regression model\n",
    "pipeline = Pipeline([\n",
    "    ('scaler', StandardScaler()),  # Standardize features\n",
    "    ('log_reg', LogisticRegression(max_iter=1000))  # Logistic regression model\n",
    "])\n",
    "\n",
    "# Perform 5-fold cross-validation on the pipeline\n",
    "cv_scores = cross_val_score(pipeline, X, y, cv=5, scoring='accuracy')\n",
    "\n",
    "# Calculate the mean and standard deviation of the cross-validation scores\n",
    "cv_scores_mean = np.mean(cv_scores)\n",
    "cv_scores_std = np.std(cv_scores)\n",
    "# Compute the mean cross-validation score\n",
    "mean_cv_score = cv_scores.mean()\n",
    "\n",
    "# Print the cross-validation results\n",
    "\n",
    "print(\"Cross-Validation Scores: \", cv_scores)\n",
    "print(\"mean_cv_score: \", mean_cv_score)"
   ]
  },
  {
   "cell_type": "code",
   "execution_count": null,
   "id": "9a5a0fa0",
   "metadata": {},
   "outputs": [],
   "source": []
  }
 ],
 "metadata": {
  "kernelspec": {
   "display_name": "Python 3 (ipykernel)",
   "language": "python",
   "name": "python3"
  },
  "language_info": {
   "codemirror_mode": {
    "name": "ipython",
    "version": 3
   },
   "file_extension": ".py",
   "mimetype": "text/x-python",
   "name": "python",
   "nbconvert_exporter": "python",
   "pygments_lexer": "ipython3",
   "version": "3.11.7"
  }
 },
 "nbformat": 4,
 "nbformat_minor": 5
}
