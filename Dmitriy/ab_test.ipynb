{
 "cells": [
  {
   "cell_type": "markdown",
   "metadata": {},
   "source": [
    "# AB Tests"
   ]
  },
  {
   "cell_type": "code",
   "execution_count": 38,
   "metadata": {},
   "outputs": [],
   "source": [
    "import pandas as pd\n",
    "#from statsmodels.stats.proportion import proportions_ztest\n",
    "from scipy.stats import norm\n",
    "import math\n",
    "import numpy as np"
   ]
  },
  {
   "cell_type": "code",
   "execution_count": 4,
   "metadata": {},
   "outputs": [],
   "source": [
    "customer_data=pd.read_csv('../data/Synthetic_Auto_Loan_Application_Data_With_Treatment_and_Logical_Timestamp_DPV.csv')"
   ]
  },
  {
   "cell_type": "code",
   "execution_count": 9,
   "metadata": {},
   "outputs": [
    {
     "data": {
      "text/html": [
       "<div>\n",
       "<style scoped>\n",
       "    .dataframe tbody tr th:only-of-type {\n",
       "        vertical-align: middle;\n",
       "    }\n",
       "\n",
       "    .dataframe tbody tr th {\n",
       "        vertical-align: top;\n",
       "    }\n",
       "\n",
       "    .dataframe thead th {\n",
       "        text-align: right;\n",
       "    }\n",
       "</style>\n",
       "<table border=\"1\" class=\"dataframe\">\n",
       "  <thead>\n",
       "    <tr style=\"text-align: right;\">\n",
       "      <th></th>\n",
       "      <th>Credit Score</th>\n",
       "      <th>Events</th>\n",
       "      <th>Treatment</th>\n",
       "      <th>Latest Stage</th>\n",
       "      <th>Event Length</th>\n",
       "      <th>Education Level</th>\n",
       "      <th>Marriage Level</th>\n",
       "      <th>Age</th>\n",
       "      <th>Vehicle_Year</th>\n",
       "      <th>Loan_Amount</th>\n",
       "      <th>Down_Payment</th>\n",
       "      <th>Loan_Tenure_Years</th>\n",
       "      <th>Interest_Rate</th>\n",
       "      <th>Session_Duration_Minutes</th>\n",
       "      <th>Number_of_Interactions</th>\n",
       "      <th>Date</th>\n",
       "      <th>Session_DateTime</th>\n",
       "    </tr>\n",
       "  </thead>\n",
       "  <tbody>\n",
       "    <tr>\n",
       "      <th>0</th>\n",
       "      <td>516</td>\n",
       "      <td>['Application Start', 'Vehicle Selection', 'Lo...</td>\n",
       "      <td>0</td>\n",
       "      <td>Credit Check</td>\n",
       "      <td>5</td>\n",
       "      <td>Master’s Degree</td>\n",
       "      <td>Single</td>\n",
       "      <td>60.201771</td>\n",
       "      <td>2022.745019</td>\n",
       "      <td>25597.974379</td>\n",
       "      <td>5748.082665</td>\n",
       "      <td>5.239801</td>\n",
       "      <td>4.198822</td>\n",
       "      <td>49.437441</td>\n",
       "      <td>53.923680</td>\n",
       "      <td>2022-09-05</td>\n",
       "      <td>2022-09-05 08:37:54</td>\n",
       "    </tr>\n",
       "    <tr>\n",
       "      <th>1</th>\n",
       "      <td>483</td>\n",
       "      <td>['Application Start']</td>\n",
       "      <td>0</td>\n",
       "      <td>Application Start</td>\n",
       "      <td>1</td>\n",
       "      <td>High School</td>\n",
       "      <td>Divorced</td>\n",
       "      <td>62.905982</td>\n",
       "      <td>2022.541608</td>\n",
       "      <td>12258.223905</td>\n",
       "      <td>6775.227438</td>\n",
       "      <td>5.457483</td>\n",
       "      <td>4.583617</td>\n",
       "      <td>29.860501</td>\n",
       "      <td>40.497471</td>\n",
       "      <td>2022-04-04</td>\n",
       "      <td>2022-04-04 03:07:37</td>\n",
       "    </tr>\n",
       "    <tr>\n",
       "      <th>2</th>\n",
       "      <td>760</td>\n",
       "      <td>['Application Start', 'Vehicle Selection', 'Lo...</td>\n",
       "      <td>0</td>\n",
       "      <td>Credit Check</td>\n",
       "      <td>5</td>\n",
       "      <td>Associate Degree</td>\n",
       "      <td>Widowed</td>\n",
       "      <td>18.050318</td>\n",
       "      <td>2021.521410</td>\n",
       "      <td>48485.718543</td>\n",
       "      <td>7547.271700</td>\n",
       "      <td>5.021393</td>\n",
       "      <td>4.198822</td>\n",
       "      <td>31.283551</td>\n",
       "      <td>80.153289</td>\n",
       "      <td>2023-09-04</td>\n",
       "      <td>2023-09-04 23:29:14</td>\n",
       "    </tr>\n",
       "    <tr>\n",
       "      <th>3</th>\n",
       "      <td>835</td>\n",
       "      <td>['Application Start', 'Vehicle Selection', 'Lo...</td>\n",
       "      <td>1</td>\n",
       "      <td>Document Upload</td>\n",
       "      <td>4</td>\n",
       "      <td>Bachelor’s Degree</td>\n",
       "      <td>Widowed</td>\n",
       "      <td>44.957203</td>\n",
       "      <td>2018.901095</td>\n",
       "      <td>42317.108949</td>\n",
       "      <td>4385.839985</td>\n",
       "      <td>4.158795</td>\n",
       "      <td>4.198822</td>\n",
       "      <td>38.154065</td>\n",
       "      <td>99.000000</td>\n",
       "      <td>2022-04-25</td>\n",
       "      <td>2022-04-25 15:00:36</td>\n",
       "    </tr>\n",
       "    <tr>\n",
       "      <th>4</th>\n",
       "      <td>390</td>\n",
       "      <td>['Application Start']</td>\n",
       "      <td>0</td>\n",
       "      <td>Application Start</td>\n",
       "      <td>1</td>\n",
       "      <td>High School</td>\n",
       "      <td>Divorced</td>\n",
       "      <td>22.515580</td>\n",
       "      <td>2021.295322</td>\n",
       "      <td>7420.069980</td>\n",
       "      <td>5006.056088</td>\n",
       "      <td>7.000000</td>\n",
       "      <td>6.484031</td>\n",
       "      <td>40.826849</td>\n",
       "      <td>14.190096</td>\n",
       "      <td>2023-10-15</td>\n",
       "      <td>2023-10-15 16:27:37</td>\n",
       "    </tr>\n",
       "  </tbody>\n",
       "</table>\n",
       "</div>"
      ],
      "text/plain": [
       "   Credit Score                                             Events  Treatment  \\\n",
       "0           516  ['Application Start', 'Vehicle Selection', 'Lo...          0   \n",
       "1           483                              ['Application Start']          0   \n",
       "2           760  ['Application Start', 'Vehicle Selection', 'Lo...          0   \n",
       "3           835  ['Application Start', 'Vehicle Selection', 'Lo...          1   \n",
       "4           390                              ['Application Start']          0   \n",
       "\n",
       "        Latest Stage  Event Length    Education Level Marriage Level  \\\n",
       "0       Credit Check             5    Master’s Degree         Single   \n",
       "1  Application Start             1        High School       Divorced   \n",
       "2       Credit Check             5   Associate Degree        Widowed   \n",
       "3    Document Upload             4  Bachelor’s Degree        Widowed   \n",
       "4  Application Start             1        High School       Divorced   \n",
       "\n",
       "         Age  Vehicle_Year   Loan_Amount  Down_Payment  Loan_Tenure_Years  \\\n",
       "0  60.201771   2022.745019  25597.974379   5748.082665           5.239801   \n",
       "1  62.905982   2022.541608  12258.223905   6775.227438           5.457483   \n",
       "2  18.050318   2021.521410  48485.718543   7547.271700           5.021393   \n",
       "3  44.957203   2018.901095  42317.108949   4385.839985           4.158795   \n",
       "4  22.515580   2021.295322   7420.069980   5006.056088           7.000000   \n",
       "\n",
       "   Interest_Rate  Session_Duration_Minutes  Number_of_Interactions  \\\n",
       "0       4.198822                 49.437441               53.923680   \n",
       "1       4.583617                 29.860501               40.497471   \n",
       "2       4.198822                 31.283551               80.153289   \n",
       "3       4.198822                 38.154065               99.000000   \n",
       "4       6.484031                 40.826849               14.190096   \n",
       "\n",
       "         Date     Session_DateTime  \n",
       "0  2022-09-05  2022-09-05 08:37:54  \n",
       "1  2022-04-04  2022-04-04 03:07:37  \n",
       "2  2023-09-04  2023-09-04 23:29:14  \n",
       "3  2022-04-25  2022-04-25 15:00:36  \n",
       "4  2023-10-15  2023-10-15 16:27:37  "
      ]
     },
     "execution_count": 9,
     "metadata": {},
     "output_type": "execute_result"
    }
   ],
   "source": [
    "customer_data.head()"
   ]
  },
  {
   "cell_type": "code",
   "execution_count": 7,
   "metadata": {},
   "outputs": [],
   "source": [
    "#! pip install statsmodels"
   ]
  },
  {
   "cell_type": "markdown",
   "metadata": {},
   "source": [
    "## Two-sample Z-test, will check normality"
   ]
  },
  {
   "attachments": {
    "image.png": {
     "image/png": "[encoded data removed]"
    }
   },
   "cell_type": "markdown",
   "metadata": {},
   "source": [
    "![image.png](attachment:image.png)"
   ]
  },
  {
   "cell_type": "code",
   "execution_count": 19,
   "metadata": {},
   "outputs": [
    {
     "data": {
      "text/plain": [
       "(35972, 36028)"
      ]
     },
     "execution_count": 19,
     "metadata": {},
     "output_type": "execute_result"
    }
   ],
   "source": [
    "control_sample_size,treatment_sample_size=len(customer_data[customer_data.Treatment==0]), len(customer_data[customer_data.Treatment==1])\n",
    "control_sample_size,treatment_sample_size"
   ]
  },
  {
   "cell_type": "code",
   "execution_count": 21,
   "metadata": {},
   "outputs": [],
   "source": [
    "control_success_size = len(customer_data[(customer_data.Treatment==0) & (customer_data['Event Length']==6)])\n",
    "treatment_success_size = len(customer_data[(customer_data.Treatment==1) & (customer_data['Event Length']==6)])"
   ]
  },
  {
   "cell_type": "code",
   "execution_count": 22,
   "metadata": {},
   "outputs": [
    {
     "data": {
      "text/plain": [
       "0.034026465028355386"
      ]
     },
     "execution_count": 22,
     "metadata": {},
     "output_type": "execute_result"
    }
   ],
   "source": [
    "control_success_rate=control_success_size/control_sample_size\n",
    "control_success_rate"
   ]
  },
  {
   "cell_type": "code",
   "execution_count": 23,
   "metadata": {},
   "outputs": [
    {
     "data": {
      "text/plain": [
       "0.30520706117464197"
      ]
     },
     "execution_count": 23,
     "metadata": {},
     "output_type": "execute_result"
    }
   ],
   "source": [
    "treatment_success_rate=treatment_success_size/treatment_sample_size\n",
    "treatment_success_rate"
   ]
  },
  {
   "cell_type": "code",
   "execution_count": 26,
   "metadata": {},
   "outputs": [
    {
     "data": {
      "text/plain": [
       "0.16972222222222222"
      ]
     },
     "execution_count": 26,
     "metadata": {},
     "output_type": "execute_result"
    }
   ],
   "source": [
    "p_hat = (control_success_size + treatment_success_size) / (control_sample_size + treatment_sample_size)\n",
    "p_hat"
   ]
  },
  {
   "cell_type": "markdown",
   "metadata": {},
   "source": [
    "- Check if the sample size is large enough to use the normal approximation"
   ]
  },
  {
   "cell_type": "code",
   "execution_count": 32,
   "metadata": {},
   "outputs": [],
   "source": [
    "#check normality, sufficient sample size\n",
    "assert treatment_sample_size*treatment_success_rate>=5\n",
    "assert treatment_sample_size*(1-treatment_success_rate)>=5\n",
    "assert control_sample_size*control_success_rate>=5\n",
    "assert control_sample_size*(1-control_success_rate)>=5"
   ]
  },
  {
   "cell_type": "code",
   "execution_count": 28,
   "metadata": {},
   "outputs": [
    {
     "data": {
      "text/plain": [
       "96.9200591337484"
      ]
     },
     "execution_count": 28,
     "metadata": {},
     "output_type": "execute_result"
    }
   ],
   "source": [
    "z_stat = (treatment_success_rate - control_success_rate) / math.sqrt(p_hat * (1 - p_hat) * (1/control_sample_size + 1/treatment_sample_size))\n",
    "z_stat"
   ]
  },
  {
   "cell_type": "markdown",
   "metadata": {},
   "source": [
    "- The Z-statistic is clearly much larger than 1.96, 3, or anything else reasonable.  Statistically significant result!  See below, p-val is close to zero."
   ]
  },
  {
   "cell_type": "code",
   "execution_count": 34,
   "metadata": {},
   "outputs": [
    {
     "data": {
      "text/plain": [
       "0.0"
      ]
     },
     "execution_count": 34,
     "metadata": {},
     "output_type": "execute_result"
    }
   ],
   "source": [
    "p_value = 2 * (1 - norm.cdf(abs(z_stat)))\n",
    "p_value"
   ]
  },
  {
   "cell_type": "markdown",
   "metadata": {},
   "source": [
    "## Without normality assumption, can use chi2"
   ]
  },
  {
   "cell_type": "code",
   "execution_count": 35,
   "metadata": {},
   "outputs": [],
   "source": [
    "from scipy.stats import chi2_contingency"
   ]
  },
  {
   "cell_type": "code",
   "execution_count": 36,
   "metadata": {},
   "outputs": [],
   "source": [
    "customer_data['Reached_Last_Stage']=customer_data['Event Length']==6"
   ]
  },
  {
   "cell_type": "code",
   "execution_count": 37,
   "metadata": {},
   "outputs": [
    {
     "data": {
      "text/plain": [
       "False    59780\n",
       "True     12220\n",
       "Name: Reached_Last_Stage, dtype: int64"
      ]
     },
     "execution_count": 37,
     "metadata": {},
     "output_type": "execute_result"
    }
   ],
   "source": [
    "customer_data.Reached_Last_Stage.value_counts()"
   ]
  },
  {
   "cell_type": "code",
   "execution_count": 39,
   "metadata": {},
   "outputs": [
    {
     "name": "stdout",
     "output_type": "stream",
     "text": [
      "Chi2: 9391.573556002735, p-value: 0.0\n"
     ]
    }
   ],
   "source": [
    "treatment_group = customer_data[customer_data.Treatment==1]\n",
    "control_group = customer_data[customer_data.Treatment==0]\n",
    "treatment_reached =treatment_group['Reached_Last_Stage'].sum()\n",
    "treatment_total=len(treatment_group)\n",
    "control_reached =control_group['Reached_Last_Stage'].sum()\n",
    "control_total=len(control_group)\n",
    "\n",
    "contingency_table = np.array([[treatment_reached, treatment_total-treatment_reached], [control_reached, control_total-control_reached]])\n",
    "chi2_contingency, p, _, _ = chi2_contingency(contingency_table)\n",
    "\n",
    "print(f'Chi2: {chi2_contingency}, p-value: {p}')\n"
   ]
  },
  {
   "cell_type": "markdown",
   "metadata": {},
   "source": [
    "- Again, p-value rounds down to zero due to floating point precision. This means that we can reject the null hypothesis and conclude that the treatment group has a higher conversion rate than the control group."
   ]
  }
 ],
 "metadata": {
  "kernelspec": {
   "display_name": "Python 3",
   "language": "python",
   "name": "python3"
  },
  "language_info": {
   "codemirror_mode": {
    "name": "ipython",
    "version": 3
   },
   "file_extension": ".py",
   "mimetype": "text/x-python",
   "name": "python",
   "nbconvert_exporter": "python",
   "pygments_lexer": "ipython3",
   "version": "3.9.7"
  }
 },
 "nbformat": 4,
 "nbformat_minor": 2
}
